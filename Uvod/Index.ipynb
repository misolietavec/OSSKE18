{
 "cells": [
  {
   "cell_type": "markdown",
   "metadata": {
    "slideshow": {
     "slide_type": "slide"
    }
   },
   "source": [
    "## Skôr, než začneme s dátami a kreslením..."
   ]
  },
  {
   "cell_type": "markdown",
   "metadata": {
    "slideshow": {
     "slide_type": "subslide"
    }
   },
   "source": [
    "**Budeme používať Jupyter notebooky cez webový prehliadač na strojoch, virtualizovaných cez Xen. Nachádzajú sa v sieti Katedry matematických metód a operačnej analýzy fakulty FRI Žilinskej univerzity.**\n",
    "\n",
    "**Momentálne tie stroje nebežia, ale ak potrebujete, stačí napísať mail na _mike@feelmath.eu_ a v odpovedi vám pošlem, ako sa na jeden zo strojov dostanete.**\n",
    "\n",
    "Ak nepracujete, treba **korektne ukončiť** - na základnej stránke, kde ste začali pracovať, cez záložku `Running` urobte `Shutdown` pre všetky NB, ktoré vám ešte bežia (predpokladáme, že ste uložili, čo bolo treba). Potom hore vpravo tlačidlo `Logout`."
   ]
  },
  {
   "cell_type": "markdown",
   "metadata": {
    "hide_input": true,
    "slideshow": {
     "slide_type": "slide"
    }
   },
   "source": [
    "## Základné poznatky o Jupyter notebooku, Pythone a nástrojoch na spracovanie dát\n",
    "\n",
    "**získate v sérii notebookov (pozerajte si ich v poradí ako sú tu uvedené).** \n",
    "\n",
    "1. [Jupyter notebook - základy](Jupyter_Notebook_zaklady.ipynb) \n",
    "2. [Jupyter notebook - editovanie](Jupyter_Editovanie.ipynb)\n",
    "3. [Python - základy na prežitie](Python_zaklady_na_prezitie.ipynb)\n",
    "4. [Modul pandas na spracovanie dát](Pandas_spracovanie_dat.ipynb)\n",
    "5. [Pandas na psoch z Prešova](O_psoch.ipynb)"
   ]
  },
  {
   "cell_type": "markdown",
   "metadata": {},
   "source": [
    "## Webova aplikácia\n",
    "\n",
    "**Nemyslíme tým Jupyter notebook, ale \"dashboard\", kde bude webstránka s obrázkami, textami, GUI prvkami a ten, čo si ju pozerá nemusí mať ani šajnu o programovaní.**\n",
    "\n",
    "Dve základné komponenty webovej aplikácie sú\n",
    "\n",
    "- **plotly** - modul pre webovú grafiku\n",
    "- **dash** - pre publikovanie aplikacie, založené je to na webovej platforme **flask** "
   ]
  },
  {
   "cell_type": "markdown",
   "metadata": {},
   "source": [
    "## Plotly\n",
    "\n",
    "1. [Plotly - základy](../Plotly/Plotly_zaklady.ipynb)\n",
    "2. [Plotly - dáta od Prešova](../Plotly/Plotly_Presov.ipynb)"
   ]
  }
 ],
 "metadata": {
  "kernelspec": {
   "display_name": "Python 3",
   "language": "python",
   "name": "python3"
  },
  "language_info": {
   "codemirror_mode": {
    "name": "ipython",
    "version": 3
   },
   "file_extension": ".py",
   "mimetype": "text/x-python",
   "name": "python",
   "nbconvert_exporter": "python",
   "pygments_lexer": "ipython3",
   "version": "3.5.3"
  }
 },
 "nbformat": 4,
 "nbformat_minor": 2
}
