{
 "cells": [
  {
   "cell_type": "markdown",
   "metadata": {
    "slideshow": {
     "slide_type": "slide"
    }
   },
   "source": [
    "## Python - základy na prežitie\n",
    "\n",
    "__Rada: nedávajte medzery a diakritiku v názvoch NB. Tu, v textových bunkách, si môžete robiť, čo srdco ráči.__ "
   ]
  },
  {
   "cell_type": "markdown",
   "metadata": {
    "slideshow": {
     "slide_type": "slide"
    }
   },
   "source": [
    "### Premenné v Pythone a objekty.\n",
    "**Nie je treba deklarovať ich typ a aj práca s pamäťou (alokácia a uvoľňovanie) je automatická.**\n",
    "\n",
    "**Python je od prírody objektovo orientovaný, ale netreba to obkecávať.**"
   ]
  },
  {
   "cell_type": "markdown",
   "metadata": {
    "slideshow": {
     "slide_type": "slide"
    }
   },
   "source": [
    "### Čísla, textové reťazce"
   ]
  },
  {
   "cell_type": "code",
   "execution_count": null,
   "metadata": {
    "slideshow": {
     "slide_type": "fragment"
    }
   },
   "outputs": [],
   "source": [
    "# Toto je komentar a aj nizsie budu. Kvoli jednoduchosti nepouzivame diakritiku, hoci by sme mohli...\n",
    "\n",
    "n = 1            # V premennej n bude cele cislo, jeho typ je trieda (class) int\n",
    "print(\"Premenna n ma hodnotu\",n, \"jej typ je\", type(n))"
   ]
  },
  {
   "cell_type": "code",
   "execution_count": null,
   "metadata": {
    "slideshow": {
     "slide_type": "fragment"
    }
   },
   "outputs": [],
   "source": [
    "f = .7e13        # Do premennej f priradime desatinne cislo (float) - pozname podla desatinnej bodky\n",
    "print(\"Premenna f ma hodnotu\",f, \"jej typ je\", type(f))"
   ]
  },
  {
   "cell_type": "code",
   "execution_count": null,
   "metadata": {
    "slideshow": {
     "slide_type": "slide"
    }
   },
   "outputs": [],
   "source": [
    "c = 'Ahoj, svet a \"vesmír\" ' # Textovy retazec (str), bud v uvodzovkach alebo v apostrofoch sa dava\n",
    "                            # ak je v apostrofoch, vnutri mozeme beztrestne doslova pouzit uvodzovky apod...\n",
    "print(\"Premenna c hovori, ze: \",c, \"jej typ je\", type(c))"
   ]
  },
  {
   "cell_type": "code",
   "execution_count": null,
   "metadata": {
    "slideshow": {
     "slide_type": "fragment"
    }
   },
   "outputs": [],
   "source": [
    "# a este jeden zaujimavy typ\n",
    "nic = None\n",
    "print(nic)\n",
    "print(type(nic))"
   ]
  },
  {
   "cell_type": "code",
   "execution_count": null,
   "metadata": {
    "slideshow": {
     "slide_type": "slide"
    }
   },
   "outputs": [],
   "source": [
    "# v jednoduchosti je krasa\n",
    "x = 2**3     # umocnovanie\n",
    "y = -.9    \n",
    "x,y = y,x    # vymenenie hodnot bez pomocnej prememnnej\n",
    "print(\"x =\",x, \" y =\",y)"
   ]
  },
  {
   "cell_type": "markdown",
   "metadata": {
    "slideshow": {
     "slide_type": "slide"
    }
   },
   "source": [
    "### Zoznamy, množiny, slovníky"
   ]
  },
  {
   "cell_type": "code",
   "execution_count": null,
   "metadata": {
    "slideshow": {
     "slide_type": "fragment"
    }
   },
   "outputs": [],
   "source": [
    "# Z fleku - priklady \"zlozenych\" datovych typov:\n",
    "L = [3,c,-7.5,'abc']    # Zoznam (list) - moze obsahovat LUBOVOLNE Python objekty. Nie je to \"pole\"!\n",
    "                        # Zapisujeme ho do hranatych zatvoriek.\n",
    "print(\"\\nZoznam L sa vypise ako\",L,\"jeho typ je\", type(L))\n",
    "print(\"Zoznam L obsahuje ako prvok retazec c?\", 'fff' in L)   # veru obsahuje, True (pravda) je to"
   ]
  },
  {
   "cell_type": "code",
   "execution_count": null,
   "metadata": {
    "slideshow": {
     "slide_type": "fragment"
    }
   },
   "outputs": [],
   "source": [
    "# Usporiadana n-tica\n",
    "N = (L,33,'a')\n",
    "print(N, type(N))"
   ]
  },
  {
   "cell_type": "code",
   "execution_count": null,
   "metadata": {
    "slideshow": {
     "slide_type": "fragment"
    }
   },
   "outputs": [],
   "source": [
    "# Mnozina (set). Toto nema kazdy jazyk - a tak jednoducho.\n",
    "M = {1,2,3,2,5,1}\n",
    "print(\"Mnozina M sa vypise ako\",M,\"jej typ je\", type(M))   #vsimnite si, ze kazdy prvok sa v nej nachadza iba raz\n",
    "print(\"Prvok 3 je v mnozine M?\", 3 in M)    # True je booleovska premenna - pravda je\n",
    "print(\"Prvok 0 je v mnozine M?\", 0 in M)    # tak toto pravda nie je"
   ]
  },
  {
   "cell_type": "code",
   "execution_count": null,
   "metadata": {
    "slideshow": {
     "slide_type": "slide"
    }
   },
   "outputs": [],
   "source": [
    "# Nakoniec, slovnik (dict). Mnozina dvojic kluc - hodnota. \n",
    "D = {'a':'and',1:'one',(1,2): 4.5}   # kluce musia byt text. retazce, cisla, alebo usporiadane n-tice\n",
    "print(\"Slovnik D sa vypise ako\",D,\"jeho typ je\", type(D))\n",
    "\n",
    "#Vyskusajte si aj prikazy D.keys() a D.values()"
   ]
  },
  {
   "cell_type": "code",
   "execution_count": null,
   "metadata": {},
   "outputs": [],
   "source": [
    "del D['a']\n",
    "D"
   ]
  },
  {
   "cell_type": "markdown",
   "metadata": {
    "slideshow": {
     "slide_type": "slide"
    }
   },
   "source": [
    "## List comprehension\n",
    "Využíva sa pri vytváraní premennej typu list pomocou spracovania \"väčšieho\" zoznamu.\n",
    "\n",
    "Je to takáto konštrukcia\n",
    "## `Z = [f(p) for p in X if V(p)]`\n",
    "\n",
    "kde `f(p)` je funkcia (vstavaná, alebo nami vytvorená),\n",
    "\n",
    "`X` je zoznam, ktorý spracúvame, \n",
    "\n",
    "`V(p)` je podmienka na prvky zoznamu `X`, po ktorom prechádzame"
   ]
  },
  {
   "cell_type": "code",
   "execution_count": null,
   "metadata": {},
   "outputs": [],
   "source": [
    "list(range(11))"
   ]
  },
  {
   "cell_type": "code",
   "execution_count": null,
   "metadata": {
    "slideshow": {
     "slide_type": "slide"
    }
   },
   "outputs": [],
   "source": [
    "Z = [p for p in range(0,11) if p%2 == 0]\n",
    "Z2 = [p**2 for p in range(0,11) if p%2 == 0]    # druha mocnina p v rozsahu od 0 po 9, ak je p parne\n",
    "\n",
    "print(Z,Z2,sep='\\n')"
   ]
  },
  {
   "cell_type": "markdown",
   "metadata": {
    "slideshow": {
     "slide_type": "slide"
    }
   },
   "source": [
    "## Cykly for a while\n",
    "__Veľký pozor - bloky kódu v Pythone sú určené  odsadením.__"
   ]
  },
  {
   "cell_type": "code",
   "execution_count": null,
   "metadata": {
    "slideshow": {
     "slide_type": "fragment"
    }
   },
   "outputs": [],
   "source": [
    "# Cyklus, jednoduchy. Bloky kodu v Pythone su urcene ODSADENIM, ziadne zatvorky a pod.\n",
    "for p in L:\n",
    "    print(p + p, \",\", 3 * p)\n",
    "print(\"\\nA toto už nie je v cykle\")    # \\n je prechod na novy riadok, ako v C"
   ]
  },
  {
   "cell_type": "code",
   "execution_count": null,
   "metadata": {
    "slideshow": {
     "slide_type": "slide"
    }
   },
   "outputs": [],
   "source": [
    "# Typ range\n",
    "for p in range(1,11):       # rozsah od 1 po 10 (11-1)\n",
    "    print(p)\n",
    "print(list(range(0,10)))    # pretypovanie, co by  bolo bez neho?"
   ]
  },
  {
   "cell_type": "markdown",
   "metadata": {
    "slideshow": {
     "slide_type": "slide"
    }
   },
   "source": [
    "**Dvojbodka ja súčasťou syntaxe a používa sa v 3 prípadoch:**\n",
    "-  **cykly**\n",
    "-  **podmienky**\n",
    "-  **definície funkcií**"
   ]
  },
  {
   "cell_type": "code",
   "execution_count": null,
   "metadata": {
    "slideshow": {
     "slide_type": "slide"
    }
   },
   "outputs": [],
   "source": [
    "# Cyklus, pokial plati podmienka\n",
    "k = 1\n",
    "while (k < 7):\n",
    "    print(\"k = \",k)\n",
    "    k = k + 1     # mozete tiez ako v C: k += 1\n",
    "print(\"Toto uz nie je v cykle, bo nie je odsadene...\")    "
   ]
  },
  {
   "cell_type": "markdown",
   "metadata": {
    "slideshow": {
     "slide_type": "slide"
    }
   },
   "source": [
    "### Definícia funkcie a jej volanie"
   ]
  },
  {
   "cell_type": "code",
   "execution_count": null,
   "metadata": {
    "slideshow": {
     "slide_type": "fragment"
    }
   },
   "outputs": [],
   "source": [
    "# Jednoducha definicia funkcie a ukazka podmienok (vetvenie)\n",
    "def sgn(x):\n",
    "    if x != 0:\n",
    "        if x > 0:\n",
    "            return 1\n",
    "        else:           # namiesto else if mozeme pouzit skratene elif\n",
    "            return -1\n",
    "    return 0            # to nastane, ak x == 0 (porovnavanie, ako v C)\n",
    "\n",
    "print(\"sgn(-5.4) = \",sgn(-5.4),\", sgn(0) = \",sgn(0), \", sgn(1.7e10) = \", sgn(1.7e10))    "
   ]
  },
  {
   "cell_type": "code",
   "execution_count": null,
   "metadata": {
    "slideshow": {
     "slide_type": "slide"
    }
   },
   "outputs": [],
   "source": [
    "# Magic - ake mame premenne a ine objekty\n",
    "%whos"
   ]
  },
  {
   "cell_type": "code",
   "execution_count": null,
   "metadata": {
    "slideshow": {
     "slide_type": "slide"
    }
   },
   "outputs": [],
   "source": [
    "# Skratena definicia funkcie\n",
    "sqr = lambda x : x**2\n",
    "print(type(sqr))\n",
    "print(sqr(3))"
   ]
  },
  {
   "cell_type": "markdown",
   "metadata": {
    "slideshow": {
     "slide_type": "slide"
    }
   },
   "source": [
    "### Indexovanie premenných sekvenčného typu a dvojbodková notácia  "
   ]
  },
  {
   "cell_type": "code",
   "execution_count": null,
   "metadata": {
    "slideshow": {
     "slide_type": "fragment"
    }
   },
   "outputs": [],
   "source": [
    "# Indexuje sa pomocou hranatych zatvoriek. Indexy su od nuly, ako v C.\n",
    "print(c,\"\\nVybrane: \",c[0],c[3],c[4])\n",
    "print(L,\"\\nVybrane: \",L[1])"
   ]
  },
  {
   "cell_type": "code",
   "execution_count": null,
   "metadata": {
    "slideshow": {
     "slide_type": "fragment"
    }
   },
   "outputs": [],
   "source": [
    "# Dvojbodkova notacia (slices), vseobecne  od:do:krok\n",
    "# ked chyba od, do berie sa cely rozsah. Ked chyba krok, berie sa 1.\n",
    "print(c[:2])     # prve dva prvky\n",
    "print(c[2:5])    # prvky s indexami 2,3,4\n",
    "# Pre pripomenutie\n",
    "print(\"L je zoznam: \",L)\n",
    "# Dvojite indexovanie\n",
    "print(L[1][:5])"
   ]
  },
  {
   "cell_type": "code",
   "execution_count": null,
   "metadata": {
    "slideshow": {
     "slide_type": "slide"
    }
   },
   "outputs": [],
   "source": [
    "# Zaporne indexovanie - od konca\n",
    "print(L[-1])     # posledny prvok L\n",
    "print(c[-5:])    # poslednych 5 znakov c (je tam aj medzera, tu nevidno)"
   ]
  },
  {
   "cell_type": "code",
   "execution_count": null,
   "metadata": {
    "slideshow": {
     "slide_type": "fragment"
    }
   },
   "outputs": [],
   "source": [
    "print(c[::2])        # kazde druhe pismeno\n",
    "print(c.find('s'))   # index prveho vyskytu hladaneho podretazca \n",
    "print(c.count('s'))  # pocet vyskytov hladaneho podretazca \n",
    "print(c.lower())     # vsetky pismena zmeni na male"
   ]
  },
  {
   "cell_type": "markdown",
   "metadata": {
    "slideshow": {
     "slide_type": "slide"
    }
   },
   "source": [
    "### Slovník - kľúče ako indexy"
   ]
  },
  {
   "cell_type": "code",
   "execution_count": null,
   "metadata": {
    "slideshow": {
     "slide_type": "fragment"
    }
   },
   "outputs": [],
   "source": [
    "# Mnozina sa indexovat neda, nie je v nej ziadne poradie urcene. Iba ci do nej nieco patri, alebo nie.\n",
    "# Slovnik sa indexuje klucmi namiesto indexov 0,1,...\n",
    "print(\"povodny D\", D)  # pre pripomenutie\n",
    "# print(\"D['a'] = \" ,D['a'], \"\\nD[(1,2)] = \", D[(1,2)])\n",
    "# dalsi kluc a hodnota sa jednoducho prida pomocou indexovania\n",
    "D['Janko'] = 'Marienka'\n",
    "print(\"zmeneny D\", D)"
   ]
  }
 ],
 "metadata": {
  "kernelspec": {
   "display_name": "Python 3",
   "language": "python",
   "name": "python3"
  },
  "language_info": {
   "codemirror_mode": {
    "name": "ipython",
    "version": 3
   },
   "file_extension": ".py",
   "mimetype": "text/x-python",
   "name": "python",
   "nbconvert_exporter": "python",
   "pygments_lexer": "ipython3",
   "version": "3.5.3"
  }
 },
 "nbformat": 4,
 "nbformat_minor": 2
}
