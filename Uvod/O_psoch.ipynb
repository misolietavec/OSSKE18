{
 "cells": [
  {
   "cell_type": "markdown",
   "metadata": {},
   "source": [
    "# Fakty o psoch, v Prešove legálne žijúcich"
   ]
  },
  {
   "cell_type": "code",
   "execution_count": null,
   "metadata": {},
   "outputs": [],
   "source": [
    "import pandas as pd"
   ]
  },
  {
   "cell_type": "markdown",
   "metadata": {},
   "source": [
    "### Open Data pochádzajú z portálu [pomosam.sk](http://www.pomosam.sk) .\n",
    "**Je hračka ich načítať.**"
   ]
  },
  {
   "cell_type": "code",
   "execution_count": null,
   "metadata": {},
   "outputs": [],
   "source": [
    "Psi_ukec = pd.read_json('psi.json')# ,encoding='utf-8')      # pandas DataFrame\n",
    "Psi_ukec[:4]"
   ]
  },
  {
   "cell_type": "markdown",
   "metadata": {},
   "source": [
    "### Ach, jaj! Kde je pes zakopaný?"
   ]
  },
  {
   "cell_type": "markdown",
   "metadata": {},
   "source": [
    "**Je tam priveľa stĺpcov, čo nás nevzrušujú. Necháme si len plemeno, ulicu a orientačné číslo.**"
   ]
  },
  {
   "cell_type": "code",
   "execution_count": null,
   "metadata": {},
   "outputs": [],
   "source": [
    "# Ukazka indexovania stlpcami a premenovania stlpcov\n",
    "Psi = Psi_ukec[['Ulica_(chovu_psa)', 'Orient._č.','Plemeno']]\n",
    "Psi = Psi.rename(columns={'Orient._č.':'Číslo','Ulica_(chovu_psa)':'Ulica'})\n",
    "Psi[:6]"
   ]
  },
  {
   "cell_type": "code",
   "execution_count": null,
   "metadata": {},
   "outputs": [],
   "source": [
    "Psi[Psi['Plemeno'] == 'Sealyham*']"
   ]
  },
  {
   "cell_type": "markdown",
   "metadata": {},
   "source": [
    "### Koľko psov žije na ktorej ulici?  "
   ]
  },
  {
   "cell_type": "code",
   "execution_count": null,
   "metadata": {
    "scrolled": true
   },
   "outputs": [],
   "source": [
    "Pu = Psi.groupby('Ulica')\n",
    "Su = Pu.size()\n",
    "print(Su[:5])\n",
    "Su.sort_values(ascending=False,inplace=True)\n",
    "Su"
   ]
  },
  {
   "cell_type": "markdown",
   "metadata": {},
   "source": [
    "## Otázky si klaďme\n",
    "- akí to psi žijú na najobývanejšej ulici?\n",
    "- ktoré ulice majú len po jednom \"strážcovi\"\n",
    "- sú ulice bez psov?"
   ]
  },
  {
   "cell_type": "code",
   "execution_count": null,
   "metadata": {},
   "outputs": [],
   "source": [
    "PP = Psi[Psi['Ulica'] =='Prostějovská']['Plemeno']\n",
    "# PP.unique()\n",
    "# pocty po plemenach\n",
    "KP = PP.groupby(PP.values).size()  # je to Series, nie dataframe\n",
    "KP.sort_values(ascending=False,inplace=True)\n",
    "KP"
   ]
  },
  {
   "cell_type": "code",
   "execution_count": null,
   "metadata": {},
   "outputs": [],
   "source": [
    "# mali sme uz, Series Su\n",
    "Su[Su.values == 1]"
   ]
  },
  {
   "cell_type": "code",
   "execution_count": null,
   "metadata": {},
   "outputs": [],
   "source": [
    "Ul = pd.read_json('ulice.json',encoding='utf-8')\n",
    "Ul[:6]"
   ]
  },
  {
   "cell_type": "code",
   "execution_count": null,
   "metadata": {},
   "outputs": [],
   "source": [
    "len(Su), len(Ul)"
   ]
  },
  {
   "cell_type": "code",
   "execution_count": null,
   "metadata": {},
   "outputs": [],
   "source": [
    "PsieUl = set(Su.index)\n",
    "VsetUl = set(Ul['Ulica'])\n",
    "VsetUl - PsieUl"
   ]
  },
  {
   "cell_type": "markdown",
   "metadata": {},
   "source": [
    "### Sú psi, ktorí nemajú ulicu svoju. Bezdomné psy? Ako veľa?  Aké plemená?"
   ]
  },
  {
   "cell_type": "code",
   "execution_count": null,
   "metadata": {},
   "outputs": [],
   "source": [
    "print(Su[''])\n",
    "Psi[Psi['Ulica'] == '']\n"
   ]
  },
  {
   "cell_type": "markdown",
   "metadata": {},
   "source": [
    "### Aké plemená sú? Koho je najviac? "
   ]
  },
  {
   "cell_type": "code",
   "execution_count": null,
   "metadata": {},
   "outputs": [],
   "source": [
    "Pp = Psi.groupby('Plemeno')\n",
    "Sp = Pp.size()\n",
    "Sp.sort_values(ascending=False,inplace=True)\n",
    "Sp.head(30)"
   ]
  },
  {
   "cell_type": "markdown",
   "metadata": {},
   "source": [
    "### Niektoré plemená existujú len v jednej inštancii :-) <br/> Kamošov by si museli hľadať po iných mestách..."
   ]
  },
  {
   "cell_type": "code",
   "execution_count": null,
   "metadata": {},
   "outputs": [],
   "source": [
    "Osameli = Sp[Sp==1]\n",
    "print(len(Osameli))\n",
    "Osameli"
   ]
  },
  {
   "cell_type": "markdown",
   "metadata": {},
   "source": [
    "### Zvedavejší - skúste si pre iné mestá a príp. porovnajte..."
   ]
  }
 ],
 "metadata": {
  "kernelspec": {
   "display_name": "Python 3",
   "language": "python",
   "name": "python3"
  },
  "language_info": {
   "codemirror_mode": {
    "name": "ipython",
    "version": 3
   },
   "file_extension": ".py",
   "mimetype": "text/x-python",
   "name": "python",
   "nbconvert_exporter": "python",
   "pygments_lexer": "ipython3",
   "version": "3.5.3"
  }
 },
 "nbformat": 4,
 "nbformat_minor": 2
}
