{
 "cells": [
  {
   "cell_type": "markdown",
   "metadata": {},
   "source": [
    "# Fakty o psoch, v Prešove legálne žijúcich"
   ]
  },
  {
   "cell_type": "code",
   "execution_count": 1,
   "metadata": {},
   "outputs": [],
   "source": [
    "import pandas as pd"
   ]
  },
  {
   "cell_type": "markdown",
   "metadata": {},
   "source": [
    "### Open Data pochádzajú z portálu [pomosam.sk](http://www.pomosam.sk) .\n",
    "**Je hračka ich načítať.**"
   ]
  },
  {
   "cell_type": "code",
   "execution_count": 3,
   "metadata": {},
   "outputs": [
    {
     "data": {
      "text/html": [
       "<div>\n",
       "<style scoped>\n",
       "    .dataframe tbody tr th:only-of-type {\n",
       "        vertical-align: middle;\n",
       "    }\n",
       "\n",
       "    .dataframe tbody tr th {\n",
       "        vertical-align: top;\n",
       "    }\n",
       "\n",
       "    .dataframe thead th {\n",
       "        text-align: right;\n",
       "    }\n",
       "</style>\n",
       "<table border=\"1\" class=\"dataframe\">\n",
       "  <thead>\n",
       "    <tr style=\"text-align: right;\">\n",
       "      <th></th>\n",
       "      <th>Farba</th>\n",
       "      <th>Nebezpečný_pes</th>\n",
       "      <th>Orient._č.</th>\n",
       "      <th>Plemeno</th>\n",
       "      <th>Ulica_(chovu_psa)</th>\n",
       "      <th>Č._známky</th>\n",
       "      <th>Časť_mesta</th>\n",
       "    </tr>\n",
       "  </thead>\n",
       "  <tbody>\n",
       "    <tr>\n",
       "      <th>0</th>\n",
       "      <td>čierno - hnedá</td>\n",
       "      <td>Nie</td>\n",
       "      <td>1</td>\n",
       "      <td>Kríženec</td>\n",
       "      <td>Alexandra Matušku</td>\n",
       "      <td>5055</td>\n",
       "      <td>Prešov</td>\n",
       "    </tr>\n",
       "    <tr>\n",
       "      <th>1</th>\n",
       "      <td></td>\n",
       "      <td>Nie</td>\n",
       "      <td>2</td>\n",
       "      <td>Čivava</td>\n",
       "      <td>Alexandra Matušku</td>\n",
       "      <td>1918</td>\n",
       "      <td>Prešov</td>\n",
       "    </tr>\n",
       "    <tr>\n",
       "      <th>2</th>\n",
       "      <td></td>\n",
       "      <td>Nie</td>\n",
       "      <td>2</td>\n",
       "      <td>Čivava</td>\n",
       "      <td>Alexandra Matušku</td>\n",
       "      <td>6657</td>\n",
       "      <td>Prešov</td>\n",
       "    </tr>\n",
       "    <tr>\n",
       "      <th>3</th>\n",
       "      <td></td>\n",
       "      <td>Nie</td>\n",
       "      <td>9</td>\n",
       "      <td>Bígl</td>\n",
       "      <td>Alexandra Matušku</td>\n",
       "      <td>2040</td>\n",
       "      <td>Prešov</td>\n",
       "    </tr>\n",
       "    <tr>\n",
       "      <th>4</th>\n",
       "      <td></td>\n",
       "      <td>Nie</td>\n",
       "      <td>9</td>\n",
       "      <td>Nemecký špic</td>\n",
       "      <td>Alexandra Matušku</td>\n",
       "      <td>5281</td>\n",
       "      <td>Prešov</td>\n",
       "    </tr>\n",
       "    <tr>\n",
       "      <th>5</th>\n",
       "      <td>horčicová</td>\n",
       "      <td>Nie</td>\n",
       "      <td>13</td>\n",
       "      <td>Kríženec</td>\n",
       "      <td>Alexandra Matušku</td>\n",
       "      <td>4031</td>\n",
       "      <td>Prešov</td>\n",
       "    </tr>\n",
       "    <tr>\n",
       "      <th>6</th>\n",
       "      <td>bielohnedá</td>\n",
       "      <td>Nie</td>\n",
       "      <td>13</td>\n",
       "      <td>Kríženec</td>\n",
       "      <td>Alexandra Matušku</td>\n",
       "      <td>6934</td>\n",
       "      <td>Prešov</td>\n",
       "    </tr>\n",
       "  </tbody>\n",
       "</table>\n",
       "</div>"
      ],
      "text/plain": [
       "            Farba Nebezpečný_pes  Orient._č.       Plemeno  Ulica_(chovu_psa)  \\\n",
       "0  čierno - hnedá            Nie     1            Kríženec  Alexandra Matušku   \n",
       "1                            Nie     2              Čivava  Alexandra Matušku   \n",
       "2                            Nie     2              Čivava  Alexandra Matušku   \n",
       "3                            Nie     9                Bígl  Alexandra Matušku   \n",
       "4                            Nie     9        Nemecký špic  Alexandra Matušku   \n",
       "5       horčicová            Nie    13            Kríženec  Alexandra Matušku   \n",
       "6      bielohnedá            Nie    13            Kríženec  Alexandra Matušku   \n",
       "\n",
       "  Č._známky Časť_mesta  \n",
       "0      5055     Prešov  \n",
       "1      1918     Prešov  \n",
       "2      6657     Prešov  \n",
       "3      2040     Prešov  \n",
       "4      5281     Prešov  \n",
       "5      4031     Prešov  \n",
       "6      6934     Prešov  "
      ]
     },
     "execution_count": 3,
     "metadata": {},
     "output_type": "execute_result"
    }
   ],
   "source": [
    "Psi_ukec = pd.read_json('psi.json',encoding='utf-8')\n",
    "Psi_ukec[:7]\n"
   ]
  },
  {
   "cell_type": "markdown",
   "metadata": {},
   "source": [
    "### Ach, jaj! Kde je pes zakopaný?"
   ]
  },
  {
   "cell_type": "markdown",
   "metadata": {},
   "source": [
    "**Je tam priveľa stĺpcov, čo nás nevzrušujú. Necháme si len plemeno, ulicu a orientačné číslo.**"
   ]
  },
  {
   "cell_type": "code",
   "execution_count": 4,
   "metadata": {},
   "outputs": [
    {
     "data": {
      "text/html": [
       "<div>\n",
       "<style scoped>\n",
       "    .dataframe tbody tr th:only-of-type {\n",
       "        vertical-align: middle;\n",
       "    }\n",
       "\n",
       "    .dataframe tbody tr th {\n",
       "        vertical-align: top;\n",
       "    }\n",
       "\n",
       "    .dataframe thead th {\n",
       "        text-align: right;\n",
       "    }\n",
       "</style>\n",
       "<table border=\"1\" class=\"dataframe\">\n",
       "  <thead>\n",
       "    <tr style=\"text-align: right;\">\n",
       "      <th></th>\n",
       "      <th>Orient._č.</th>\n",
       "      <th>Ulica_(chovu_psa)</th>\n",
       "      <th>Plemeno</th>\n",
       "    </tr>\n",
       "  </thead>\n",
       "  <tbody>\n",
       "    <tr>\n",
       "      <th>0</th>\n",
       "      <td>1</td>\n",
       "      <td>Alexandra Matušku</td>\n",
       "      <td>Kríženec</td>\n",
       "    </tr>\n",
       "    <tr>\n",
       "      <th>1</th>\n",
       "      <td>2</td>\n",
       "      <td>Alexandra Matušku</td>\n",
       "      <td>Čivava</td>\n",
       "    </tr>\n",
       "    <tr>\n",
       "      <th>2</th>\n",
       "      <td>2</td>\n",
       "      <td>Alexandra Matušku</td>\n",
       "      <td>Čivava</td>\n",
       "    </tr>\n",
       "    <tr>\n",
       "      <th>3</th>\n",
       "      <td>9</td>\n",
       "      <td>Alexandra Matušku</td>\n",
       "      <td>Bígl</td>\n",
       "    </tr>\n",
       "    <tr>\n",
       "      <th>4</th>\n",
       "      <td>9</td>\n",
       "      <td>Alexandra Matušku</td>\n",
       "      <td>Nemecký špic</td>\n",
       "    </tr>\n",
       "  </tbody>\n",
       "</table>\n",
       "</div>"
      ],
      "text/plain": [
       "   Orient._č.  Ulica_(chovu_psa)       Plemeno\n",
       "0     1        Alexandra Matušku      Kríženec\n",
       "1     2        Alexandra Matušku        Čivava\n",
       "2     2        Alexandra Matušku        Čivava\n",
       "3     9        Alexandra Matušku          Bígl\n",
       "4     9        Alexandra Matušku  Nemecký špic"
      ]
     },
     "execution_count": 4,
     "metadata": {},
     "output_type": "execute_result"
    }
   ],
   "source": [
    "Psi = Psi_ukec[['Orient._č.','Ulica_(chovu_psa)','Plemeno']]\n",
    "Psi[:5]"
   ]
  },
  {
   "cell_type": "code",
   "execution_count": 5,
   "metadata": {},
   "outputs": [],
   "source": [
    "Psi = Psi.rename({'Orient._č.':\"Cislo\", \"\":\"\"})"
   ]
  },
  {
   "cell_type": "markdown",
   "metadata": {},
   "source": [
    "### Koľko psov žije na ktorej ulici?  "
   ]
  },
  {
   "cell_type": "code",
   "execution_count": null,
   "metadata": {
    "scrolled": true
   },
   "outputs": [],
   "source": [
    "# Pu, Su\n"
   ]
  },
  {
   "cell_type": "markdown",
   "metadata": {},
   "source": [
    "## Otázky si klaďme\n",
    "- akí to psi žijú na najobývanejšej ulici?\n",
    "- ktoré ulice majú len po jednom \"strážcovi\"\n",
    "- sú ulice bez psov?"
   ]
  },
  {
   "cell_type": "code",
   "execution_count": null,
   "metadata": {},
   "outputs": [],
   "source": [
    "PP, KP"
   ]
  },
  {
   "cell_type": "code",
   "execution_count": null,
   "metadata": {},
   "outputs": [],
   "source": []
  },
  {
   "cell_type": "code",
   "execution_count": null,
   "metadata": {},
   "outputs": [],
   "source": [
    "# Ul\n"
   ]
  },
  {
   "cell_type": "code",
   "execution_count": null,
   "metadata": {},
   "outputs": [],
   "source": []
  },
  {
   "cell_type": "code",
   "execution_count": null,
   "metadata": {},
   "outputs": [],
   "source": [
    "# PsieUl, VsetUl"
   ]
  },
  {
   "cell_type": "markdown",
   "metadata": {},
   "source": [
    "### Sú psi, ktorí nemajú ulicu svoju. Bezdomné psy? Ako veľa?  Aké plemená?"
   ]
  },
  {
   "cell_type": "code",
   "execution_count": null,
   "metadata": {},
   "outputs": [],
   "source": []
  },
  {
   "cell_type": "markdown",
   "metadata": {},
   "source": [
    "### Aké plemená sú? Koho je najviac? "
   ]
  },
  {
   "cell_type": "code",
   "execution_count": null,
   "metadata": {},
   "outputs": [],
   "source": []
  },
  {
   "cell_type": "markdown",
   "metadata": {},
   "source": [
    "### Niektoré plemená existujú len v jednej inštancii :-) <br/> Kamošov by si museli hľadať po iných mestách..."
   ]
  },
  {
   "cell_type": "code",
   "execution_count": null,
   "metadata": {},
   "outputs": [],
   "source": [
    "# Osameli "
   ]
  },
  {
   "cell_type": "markdown",
   "metadata": {},
   "source": [
    "### Zvedavejší = skúste si pre iné mestá a príp. porovnanie"
   ]
  }
 ],
 "metadata": {
  "kernelspec": {
   "display_name": "Python 3",
   "language": "python",
   "name": "python3"
  },
  "language_info": {
   "codemirror_mode": {
    "name": "ipython",
    "version": 3
   },
   "file_extension": ".py",
   "mimetype": "text/x-python",
   "name": "python",
   "nbconvert_exporter": "python",
   "pygments_lexer": "ipython3",
   "version": "3.5.3"
  }
 },
 "nbformat": 4,
 "nbformat_minor": 2
}
