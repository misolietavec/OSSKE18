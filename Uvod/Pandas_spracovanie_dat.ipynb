{
 "cells": [
  {
   "cell_type": "markdown",
   "metadata": {
    "slideshow": {
     "slide_type": "slide"
    }
   },
   "source": [
    "## Modul pandas - základný nástroj na spracovanie dát"
   ]
  },
  {
   "cell_type": "markdown",
   "metadata": {
    "slideshow": {
     "slide_type": "slide"
    }
   },
   "source": [
    "### Moduly - knižnice Pythonu\n",
    "\n",
    "Základ jazyka je malý, vieme ho rozšíriť **importovaním** (veľkého množstva) existujúcich **modulov.**"
   ]
  },
  {
   "cell_type": "code",
   "execution_count": null,
   "metadata": {
    "slideshow": {
     "slide_type": "slide"
    }
   },
   "outputs": [],
   "source": [
    "# Priklad:\n",
    "sin(0.5)  # nepozna sinus, vynadal nam"
   ]
  },
  {
   "cell_type": "code",
   "execution_count": null,
   "metadata": {
    "slideshow": {
     "slide_type": "fragment"
    }
   },
   "outputs": [],
   "source": [
    "import math          # napiste import ma a potom cez Tab sa vam doplnia vsetky moduly, co tak zacinaju\n",
    "print(type(math))    # novy typ - trieda module; math je objektom tej triedy\n",
    "math.sin(0.5)        # toto uz pojde, je to kvalifikovane meno - modul a v nom funkcia\n",
    "                     # bodka sa pouziva na pristup k funkciam a datam objektov"
   ]
  },
  {
   "cell_type": "code",
   "execution_count": null,
   "metadata": {
    "slideshow": {
     "slide_type": "fragment"
    }
   },
   "outputs": [],
   "source": [
    "# Stale by neslo sin(0.5), no mozeme ho importnut na \"globalnu uroven\" mien\n",
    "from math import sin, cos, pi\n",
    "sin(pi/2)"
   ]
  },
  {
   "cell_type": "markdown",
   "metadata": {
    "slideshow": {
     "slide_type": "slide"
    }
   },
   "source": [
    "__Najdôležitejšie (pre nás) moduly budú__\n",
    "- **`pandas`** - reprezentácia (štatistických) dát v tvare tabuľky s pomenovanými stĺpcami (niekedy i riadkami) a ich spracovanie\n",
    "- **`numpy`** - efektívna práca s číselnymi poľami (vektory, matice, sústavy lin. rovníc,...); bez `numpy` by nešiel ani modul `pandas` \n",
    "- **`scipy`** - hlavne submodul `scipy.stats` pre štatistické funkcie, rozdelenia pravdepodobností, testovanie hypotéz,...\n",
    "- **`matplotlib`** - modul pre grafiku, kreslenie obrázkov (v pozadí ho používa aj `pandas`)."
   ]
  },
  {
   "cell_type": "markdown",
   "metadata": {
    "slideshow": {
     "slide_type": "slide"
    }
   },
   "source": [
    "\n",
    "**Užitočné sú tiež moduly**\n",
    "- **`qgrid`** - pekné tabuľkové zobrazovanie dát s možnosťou ich filtrácie a usporiadania (podľa stĺpcov)\n",
    "- **`folium`**   - modul pre zobrazovanie máp\n",
    "\n",
    "**Na vytváranie interaktívnych aplikácií** (nemyslíme tým Jupyter notebooky) budeme používať moduly\n",
    "- **`dash`** - tvorba a vykonávanie webových aplikácií\n",
    "- **`plotly`** - modul pre veľmi interaktívnu grafiku vo webovom prehliadači"
   ]
  },
  {
   "cell_type": "markdown",
   "metadata": {
    "slideshow": {
     "slide_type": "fragment"
    }
   },
   "source": [
    "\n",
    "Napr. pre tento notebook dáme nasledujúce importy (to `as` je pre skratky), čiže ďalej nemusíme písať `numpy`, ale stačí `np` ..."
   ]
  },
  {
   "cell_type": "code",
   "execution_count": null,
   "metadata": {
    "slideshow": {
     "slide_type": "slide"
    }
   },
   "outputs": [],
   "source": [
    "import numpy as np\n",
    "import pandas as pd\n",
    "\n",
    "import qgrid"
   ]
  },
  {
   "cell_type": "markdown",
   "metadata": {
    "slideshow": {
     "slide_type": "slide"
    }
   },
   "source": [
    "**Základnym typom pre reprezentáciu dát v module `pandas` je `DataFrame`.** Môžeme si to predstaviť ako tabuľku s pomenovanými\n",
    "stĺpcami. **Stĺpce budú jednotlivé (namerané) veličiny a riadky budú predstavovať merania** (treba ich veľa, aby sa dalo čosi o dátach povedať).\n",
    "\n",
    "### Príklad (kolegyňa Ida Stankovianska).\n",
    "Máme k dispozícii dáta o hmotnosti a BMI (Body Mass Index) študentov, v súbore `BMI.csv` (pozrite si, pomeditujte, ale needitujte).\n",
    "\n",
    "Modul `pandas` má veľa funkcií pre načítanie dát v rôznych formátoch, napr. z Excelu, CSV (Comma Separated Values) súboru, json, html formátu, atď. Načítame naše dáta do premennej `BMIdata`, presvedčíme sa, že typ načítaného je `pandas DataFrame` a vypíšeme tie dáta, najskôr \"klasicky\"."
   ]
  },
  {
   "cell_type": "code",
   "execution_count": null,
   "metadata": {
    "slideshow": {
     "slide_type": "slide"
    }
   },
   "outputs": [],
   "source": [
    "BMIdata = pd.read_csv(\"BMI.csv\")     # doplnajte Tab-om, staci napisat pd.rea a Tab; doplni aj meno CVS suboru\n",
    "print(\"Premenna BMIdata ma typ\", type(BMIdata))\n",
    "BMIdata[:6]                       # ak chceme len niekolko prvych riadkov, ak cele, dajte len BMIdata"
   ]
  },
  {
   "cell_type": "markdown",
   "metadata": {
    "slideshow": {
     "slide_type": "slide"
    }
   },
   "source": [
    "Ajhľa, tabuľka, zobrazenie našej `DataFrame BMIdata`. \n",
    "\n",
    "Každá `Dataframe` má tieto tri základné komponenty:\n",
    "- **`columns`**  - pomenovania (indexy) stĺpcov, obyčajne textové reťazce\n",
    "- **`index`** - podobné pomenovania pre riadky, často sú to len poradové čísla meraní, počnúc nulou\n",
    "- **`values`** - samotné namerané dáta v tvare `numpy` poľa (tj. typ `ndarray`)"
   ]
  },
  {
   "cell_type": "code",
   "execution_count": null,
   "metadata": {
    "slideshow": {
     "slide_type": "fragment"
    }
   },
   "outputs": [],
   "source": [
    "print(\"columns: \",BMIdata.columns)     # ako vzdy, pouzivajte doplnanie cez Tab\n",
    "print(\"\\nindex: \",BMIdata.index)\n",
    "print(\"\\nvalues:\\n\",BMIdata.values[:6])  # nechceme vsetko vypisovat..."
   ]
  },
  {
   "cell_type": "markdown",
   "metadata": {
    "slideshow": {
     "slide_type": "slide"
    }
   },
   "source": [
    "### Ďalej budeme namiesto `DataFrame` písať skratku `DF`.\n",
    "\n",
    "Veľmi pohodlným nástrojom na manipuláciu `DF` (filtráciu a usporiadanie podľa stĺpcov) je modul `qgrid` (v pozadí je [JavaScriptova knižnica `SlickGrid`](https://github.com/mleibman/SlickGrid)). \n",
    "\n",
    "Asi nepotrebuje komentár. Klikajte na názvy stĺpcov pre usporiadanie a na tie \"lieviky\" pre filtráciu.\n",
    "\n",
    "S pomocou toho nástroja ľahko zistíte napr.:\n",
    "- minimálnu a maximálnu hmotnosť a tiež min. a max. BMI\n",
    "- vyberiete tie riadky, kde sú študenti s hmotnosťou od 60 do 80 kg a (zároveň) BMI od 22 do 24."
   ]
  },
  {
   "cell_type": "code",
   "execution_count": null,
   "metadata": {
    "scrolled": true,
    "slideshow": {
     "slide_type": "slide"
    }
   },
   "outputs": [],
   "source": [
    "qgrid_tabulka = qgrid.show_grid(BMIdata)\n",
    "qgrid_tabulka   # Jupyter vie, ako ju ma zobrazit"
   ]
  },
  {
   "cell_type": "markdown",
   "metadata": {
    "slideshow": {
     "slide_type": "slide"
    }
   },
   "source": [
    "### Najlepšie na tom je, že editovanú (filtrovanú) `DF` vieme dostať späť cez metódu `get_changed_df`:"
   ]
  },
  {
   "cell_type": "code",
   "execution_count": null,
   "metadata": {
    "slideshow": {
     "slide_type": "fragment"
    }
   },
   "outputs": [],
   "source": [
    "normalni = qgrid_tabulka.get_changed_df()\n",
    "normalni"
   ]
  },
  {
   "cell_type": "markdown",
   "metadata": {
    "slideshow": {
     "slide_type": "slide"
    }
   },
   "source": [
    "### Veľmi dôležité - ako filtrovať `DF` programátorsky (kto pochopí, je na dobrej ceste k majstrovstvu v `pandas`)\n",
    "\n",
    "To, čo sme stvárali myšou v `qgrid` tabuľke, nebude praktické, ak dát je veľa, alebo filtrovanie zložitejšie. Vždy však môžeme filtrovať pomocou booleovských podmienok na hodnoty stĺpcov `DataFrame`.\n",
    "\n",
    "Chceme len tie **riadky, kde je hmotnosť od 60 do 80 kg a zároveň BMI od 22 do 24** (ako sme robili hore, myšou)."
   ]
  },
  {
   "cell_type": "code",
   "execution_count": null,
   "metadata": {
    "slideshow": {
     "slide_type": "fragment"
    }
   },
   "outputs": [],
   "source": [
    "vyberHmot = (BMIdata['Hmot'] >= 60) & (BMIdata['Hmot'] <= 80)\n",
    "vyberHmot[:8]     # vypiseme len prvych 8 riadkov"
   ]
  },
  {
   "cell_type": "markdown",
   "metadata": {
    "slideshow": {
     "slide_type": "fragment"
    }
   },
   "source": [
    "**Týmto výberom sme vytvorili booleovskú `DF`, ktorá má hodnoty `True` len pre tie indexy, kde je podmienka na hmotnosť splnená (`&` je `DF` booleovský operátor pre `AND`) a inde sú hodnoty `False` (počet riadkov je ten istý ako v pôvodnej `DF BMIdata`).**\n",
    "\n",
    "Podobne vyrobíme filter aj pre BMI. "
   ]
  },
  {
   "cell_type": "code",
   "execution_count": null,
   "metadata": {
    "slideshow": {
     "slide_type": "slide"
    }
   },
   "outputs": [],
   "source": [
    "vyberBMI = (BMIdata['BMI'] >= 22) & (BMIdata['BMI'] <= 24)\n",
    "\n",
    "# chceme oba vybery aby platili\n",
    "print(\"Booleovska DF pre oba vybery, aby platili sucasne:\\n\")\n",
    "vyberHmot & vyberBMI       "
   ]
  },
  {
   "cell_type": "markdown",
   "metadata": {
    "slideshow": {
     "slide_type": "fragment"
    }
   },
   "source": [
    "Nakoniec, **urobíme Booleovské indexovanie pôvodnej DF, ktoré vyberie len tie riadky, kde sú obidva kritéria splnené** (voľným okom vidíme, že to budú riadky s indexami 2, 3, 4, 6, 11, atď.):"
   ]
  },
  {
   "cell_type": "code",
   "execution_count": null,
   "metadata": {
    "slideshow": {
     "slide_type": "slide"
    }
   },
   "outputs": [],
   "source": [
    "normalni = BMIdata[ vyberBMI & vyberHmot ]\n",
    "normalni"
   ]
  },
  {
   "cell_type": "markdown",
   "metadata": {
    "slideshow": {
     "slide_type": "slide"
    }
   },
   "source": [
    "Keď ďalej pracujeme s dátami, môže pre nás byť užitočná funkcia **group_by**, ktorá zoskupí dáta podľa daného kľúča."
   ]
  },
  {
   "cell_type": "code",
   "execution_count": null,
   "metadata": {
    "slideshow": {
     "slide_type": "fragment"
    }
   },
   "outputs": [],
   "source": [
    "zoskupeni = BMIdata.groupby('Hmot')    # zoskupi data podla hmotnosti\n",
    "velkostne = zoskupeni.size()            # prideli jednotlivym hmotnostiam pocet studentov (moze byt aj podla ineho kriteria)\n",
    "velkostne"
   ]
  },
  {
   "cell_type": "code",
   "execution_count": null,
   "metadata": {
    "slideshow": {
     "slide_type": "slide"
    }
   },
   "outputs": [],
   "source": [
    "velkostne[velkostne.values > 1]  # len tie, kde je viac ako 1 student"
   ]
  },
  {
   "cell_type": "code",
   "execution_count": null,
   "metadata": {
    "slideshow": {
     "slide_type": "slide"
    }
   },
   "outputs": [],
   "source": [
    "velkostne.sort_values(ascending=False,inplace=True)  # usporiada podla poctu studentov\n",
    "velkostne            # ascending=False (od najvacsieho), inplace=True(ponecha poctu studentov aj ich hmotnost)"
   ]
  },
  {
   "cell_type": "code",
   "execution_count": null,
   "metadata": {
    "slideshow": {
     "slide_type": "slide"
    }
   },
   "outputs": [],
   "source": [
    "len(velkostne == 2)   # pocet hmotnosti, ktore maju 2 studenti"
   ]
  }
 ],
 "metadata": {
  "kernelspec": {
   "display_name": "Python 3",
   "language": "python",
   "name": "python3"
  },
  "language_info": {
   "codemirror_mode": {
    "name": "ipython",
    "version": 3
   },
   "file_extension": ".py",
   "mimetype": "text/x-python",
   "name": "python",
   "nbconvert_exporter": "python",
   "pygments_lexer": "ipython3",
   "version": "3.5.3"
  }
 },
 "nbformat": 4,
 "nbformat_minor": 2
}
