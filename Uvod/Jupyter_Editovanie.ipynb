{
 "cells": [
  {
   "cell_type": "markdown",
   "metadata": {
    "slideshow": {
     "slide_type": "slide"
    }
   },
   "source": [
    "## Výhody Jupyter notebookov\n",
    "- **centrálna inštalácia**, úplne rovnaké prostredie a softvér pre všetkých (študentov)\n",
    "- **nezávislosť na operačnom systéme**, potrebný je len webový prehliadač (napr. Firefox)\n",
    "- **prístup odhocikadiaľ (aj z domu) zo siete** pre študentov a učiteľov (na FRI máme LDAP autentifikáciu)\n",
    "- možnosť použiť **veľké množstvo modulov pre Python**\n",
    "- možnosť pracovať s inými programovacími jazykmi (`C, C++, Java, Julia, R, Groovy, Kotlin,`...)\n",
    "- __stiahnutie (download)__ a uloženie notebookov v rôznych formátoch, taktiež __upload__ z nášho lokálneho počítača \n",
    "- **webový terminál**, teda príkazové okno na serveri (hlavne pre tých, čo trochu poznajú Linux)"
   ]
  },
  {
   "cell_type": "markdown",
   "metadata": {
    "slideshow": {
     "slide_type": "slide"
    }
   },
   "source": [
    "## Jupyter ako editovací nástroj\n",
    "V Jupyteri môžeme vytvárať nielen notebooky v Pythone a iných jazykoch, ale používať ho aj ako editor zdrojových kódov. To sa robí cez menu New (vpravo hore) na tej stránke, odkiaľ ste prácu v Jupyteri začali, nie v rámci tohoto notebooku. My napr. môžeme pracovať s  notebookmi pre jazyky \n",
    "- `C, C++ 14, Julia 0.6.1, Python 3, R`.\n",
    "\n",
    "Ďalšie voľby, hlavne `Text File` umožňujú vytvoriť a editovať zdrojáky. Obyčajne podľa prípony súboru (`.py, .c, .html,...`) bude správne vysvietená aj syntax príslušného jazyka. \n",
    "\n",
    "Naše odporúčanie je __v Jupyter notebooku (`.ipynb`) robiť len podstatné veci__ a pomocné funkcie, (komplikované) __výpočty robiť v jednom či viacerých Python zdrojákoch (`.py`).__     "
   ]
  },
  {
   "cell_type": "markdown",
   "metadata": {
    "slideshow": {
     "slide_type": "slide"
    }
   },
   "source": [
    "__Príklad (trochu umelý)__: v súbore `funcpokusy.py` sme vytvorili niekoľko funkcií na výpočet faktoriálu nezáporného celého čísla $n$ a tiež $n$-tého člena Fibonacciho postupnosti definovanej takto\n",
    "$$ F_0 = 0,\\ F_1 = 1,\\quad F_{n} = F_{n-1} + F_{n-2}, \\mbox{ pre } n = 2,3,\\cdots.$$\n",
    "Pozrite si ten súbor `funcpokusy.py`. Vytvorené funkcie sprístupníme cez príkaz `import`. Tak isto môžeme importovať aj celé súbory alebo moduly(knižnice), alebo iba niektoré ich funkcie ako v tomto príklade."
   ]
  },
  {
   "cell_type": "code",
   "execution_count": 1,
   "metadata": {
    "slideshow": {
     "slide_type": "slide"
    }
   },
   "outputs": [],
   "source": [
    "# Kodova bunka (priponu suboru .py netreba pisat). Vykonajte !!!\n",
    "from funcpokusy import fib1, fib2, fact1, fact2"
   ]
  },
  {
   "cell_type": "markdown",
   "metadata": {
    "slideshow": {
     "slide_type": "slide"
    }
   },
   "source": [
    "Vyskúšame výpočtové časy pre funkcie `fib2, fib2` (nedávajte väčšie $n$ ako 32). Znak `%` na začiatku riadku znamená tzv. `magic` - užitočné pomocné príkazy Jupyteru. "
   ]
  },
  {
   "cell_type": "code",
   "execution_count": 2,
   "metadata": {
    "slideshow": {
     "slide_type": "fragment"
    }
   },
   "outputs": [
    {
     "name": "stdout",
     "output_type": "stream",
     "text": [
      "CPU times: user 0 ns, sys: 0 ns, total: 0 ns\n",
      "Wall time: 37.9 µs\n",
      "CPU times: user 1.89 s, sys: 0 ns, total: 1.89 s\n",
      "Wall time: 1.88 s\n",
      "Sú rovnaké? True, oba rovné 2178309\n"
     ]
    }
   ],
   "source": [
    "%time f1 = fib1(32)\n",
    "%time f2 = fib2(32)\n",
    "print(\"Sú rovnaké? \",f1 == f2, \", oba rovné \",f1,sep='')"
   ]
  },
  {
   "cell_type": "markdown",
   "metadata": {
    "slideshow": {
     "slide_type": "slide"
    }
   },
   "source": [
    "### Kontrolná otázka :-) \n",
    "__Prečo výpočet s pomocou `f2` trvá tak strašne dlho (na rozdiel od `f1`)?__\n",
    "\n",
    "Vyskúšajte tiež faktoriály, ale dajte $n < 600$."
   ]
  },
  {
   "cell_type": "markdown",
   "metadata": {
    "slideshow": {
     "slide_type": "slide"
    }
   },
   "source": [
    "**Odporúčanie - pred uložením NB cez `File -> Save and Checkpoint` dajte  `Cell -> All Output -> Clear`,\n",
    "alebo rovno `Kernel -> Restart & Clear Output` (nebojte sa).**\n",
    "\n",
    "Platí to hlavne, ak ste vytvárali v NB obrázky (ich uložením sa NB veľmi \"nafúkne\"). Veľkosti súborov v aktuálnom adresári uvidíte cez príkaz (v kódovej bunke) `ls -lh` "
   ]
  },
  {
   "cell_type": "code",
   "execution_count": null,
   "metadata": {
    "slideshow": {
     "slide_type": "skip"
    }
   },
   "outputs": [],
   "source": [
    "# %time f1 = fact1(600)\n",
    "# %time f2 = fact2(600)\n",
    "# print(\"Sú rovnaké?\",f1 == f2, \"oba rovné\",f1)"
   ]
  },
  {
   "cell_type": "markdown",
   "metadata": {
    "slideshow": {
     "slide_type": "slide"
    }
   },
   "source": [
    "A ešte jedna pomôcka na uľahčenie práce. **Príkazy jednoducho dopĺňame pomocou tabulátora**.\n",
    "\n",
    "A ak si nie sme istí niektorým príkazom, **napíšeme za príkaz otáznik a po vykonaní bunky sa nám zobrazí jeho dokumentácia.**"
   ]
  },
  {
   "cell_type": "code",
   "execution_count": 3,
   "metadata": {
    "slideshow": {
     "slide_type": "fragment"
    }
   },
   "outputs": [],
   "source": [
    "print?"
   ]
  }
 ],
 "metadata": {
  "kernelspec": {
   "display_name": "Python 3",
   "language": "python",
   "name": "python3"
  },
  "language_info": {
   "codemirror_mode": {
    "name": "ipython",
    "version": 3
   },
   "file_extension": ".py",
   "mimetype": "text/x-python",
   "name": "python",
   "nbconvert_exporter": "python",
   "pygments_lexer": "ipython3",
   "version": "3.5.3"
  }
 },
 "nbformat": 4,
 "nbformat_minor": 2
}
