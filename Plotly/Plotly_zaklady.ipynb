{
 "cells": [
  {
   "cell_type": "markdown",
   "metadata": {},
   "source": [
    "# Dokumentácia na [https://plot.ly/python/](https://plot.ly/python/) majme poruke."
   ]
  },
  {
   "cell_type": "markdown",
   "metadata": {},
   "source": [
    "### Plotly online a offline, rozdiel. Prečo offline?\n",
    "\n",
    "Ako začať (v Jupyter notebooku)?"
   ]
  },
  {
   "cell_type": "code",
   "execution_count": null,
   "metadata": {},
   "outputs": [],
   "source": [
    "import numpy as np              # nezaskodi nikdy\n",
    "import pandas as pd\n",
    "\n",
    "# ----------- a toto je uz pre plotly -------------\n",
    "import plotly\n",
    "import plotly.graph_objs as go\n",
    "from plotly.offline import init_notebook_mode, iplot\n",
    "import plotly.io as pio  \n",
    "\n",
    "init_notebook_mode(connected=True)"
   ]
  },
  {
   "cell_type": "markdown",
   "metadata": {},
   "source": [
    "## Vytvorenie grafu v plotly\n",
    "\n",
    "Tri základne kamene, z ktorých ten graf poskladáme:\n",
    "- **Data**\n",
    "- **Layout**\n",
    "- **Figure**\n",
    "\n",
    "### Data\n",
    "\n",
    "**Data** objekt definuje, čo chceme na grafe zobraziť (teda, dáta). Definujeme zoznam dát a špecifikácie na ich zobrazenie ako **trace**. **Data** objekt môže mať veľa **traces**. Napr. v grafe s dvomi čiarami, reprezentujúcimi dve rôzne kategórie každá čiara je **trace**.\n",
    "\n",
    "### Layout\n",
    "\n",
    "**Layout** objekt definuje vlastnosti, ktoré s dátami nesúvisia (napr. nadpis grafu, označenie osí atď). **Layout** môžeme použiť tiež na pridanie anotácií a značiek do grafu.\n",
    "\n",
    "### Figure\n",
    "\n",
    "Objekt **Figure** vytvorí finálny objekt na vykreslenie. Tento objekt obsahuje **Data** aj **Layout**.\n",
    "\n",
    "**Plotly vizualizácie používajú javascriptovu knižnicu plotly.js. Teda, plotly API pre Python je len modul, ktorý umožňuje interakciu s plotly.js. Submodul plotly.graph_objs obsahuje funkcie, ktoré nám vygenerujú grafické objekty.**"
   ]
  },
  {
   "cell_type": "code",
   "execution_count": null,
   "metadata": {},
   "outputs": [],
   "source": [
    "iplot(\n",
    "    {\"data\": [go.Scatter(x=[1, 2, 3, 4], y=[4, 3, 2, 3])],\n",
    "     \"layout\": go.Layout({\"title\": \"Halo Plotly\", \"width\": 600,\"height\": 400})},show_link=True, \n",
    ")"
   ]
  },
  {
   "cell_type": "code",
   "execution_count": null,
   "metadata": {},
   "outputs": [],
   "source": [
    "# help\n",
    "# plotly.offline.iplot?"
   ]
  },
  {
   "cell_type": "code",
   "execution_count": null,
   "metadata": {},
   "outputs": [],
   "source": [
    "x = np.random.randn(2000)\n",
    "y = np.random.randn(2000)\n",
    "# obrazok pomocou data a layout\n",
    "iplot({\"data\": [go.Histogram2dContour(x=x, y=y, contours=dict(coloring='heatmap')),\n",
    "       go.Scatter(x=x, y=y, mode='markers', marker=dict(color='white', size=3, opacity=0.3))],\n",
    "       \n",
    "       \"layout\": go.Layout({\"title\": \"Kontury\", \"width\": 500,\"height\": 500})},\n",
    "       show_link=False)"
   ]
  },
  {
   "cell_type": "code",
   "execution_count": null,
   "metadata": {},
   "outputs": [],
   "source": [
    "# Obrazok pomocou figure\n",
    "N = 100\n",
    "x = np.random.rand(N)\n",
    "y = np.random.rand(N)\n",
    "colors = np.random.rand(N)\n",
    "sz = np.random.rand(N)*30\n",
    "\n",
    "fig = go.Figure(layout={'width':800, 'height':600, \"title\": \"Pestré krúžky\"})\n",
    "fig.add_scatter(x=x,\n",
    "                y=y,\n",
    "                mode='markers',\n",
    "                marker={'size': sz,\n",
    "                        'color': colors,\n",
    "                        'opacity': 0.6,\n",
    "                        'colorscale': 'Jet'\n",
    "                       });\n",
    "iplot(fig)\n"
   ]
  },
  {
   "cell_type": "code",
   "execution_count": null,
   "metadata": {
    "scrolled": false
   },
   "outputs": [],
   "source": [
    "# Toto nepojde, len lokalne. O tazkostiach...\n",
    "\n",
    "# pio.write_image(fig,\"images/kruzky.jpg\")\n",
    "# pio.write_image(fig,'images/kruzky.pdf')\n",
    "# pio.write_image(fig,'images/kruzky.svg')"
   ]
  },
  {
   "cell_type": "code",
   "execution_count": null,
   "metadata": {},
   "outputs": [],
   "source": [
    "# priklad na SRTM data\n",
    "H = np.fromfile('images/N48E021.hgt','>i2').reshape(1201,1201) "
   ]
  },
  {
   "cell_type": "code",
   "execution_count": null,
   "metadata": {},
   "outputs": [],
   "source": [
    "iplot([go.Contour(z=np.flipud(H),x=np.arange(48,49,1/1200),y=np.arange(21,22,1/1200),colorscale='Earth')])"
   ]
  }
 ],
 "metadata": {
  "kernelspec": {
   "display_name": "Python 3",
   "language": "python",
   "name": "python3"
  },
  "language_info": {
   "codemirror_mode": {
    "name": "ipython",
    "version": 3
   },
   "file_extension": ".py",
   "mimetype": "text/x-python",
   "name": "python",
   "nbconvert_exporter": "python",
   "pygments_lexer": "ipython3",
   "version": "3.5.3"
  },
  "main_language": "python"
 },
 "nbformat": 4,
 "nbformat_minor": 2
}
